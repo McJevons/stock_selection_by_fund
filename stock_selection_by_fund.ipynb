{
 "cells": [
  {
   "cell_type": "code",
   "execution_count": 1,
   "metadata": {},
   "outputs": [],
   "source": [
    "import requests\n",
    "import math\n",
    "import re\n",
    "import numpy as np\n",
    "import pandas as pd\n",
    "from bs4 import BeautifulSoup"
   ]
  },
  {
   "cell_type": "code",
   "execution_count": 2,
   "metadata": {},
   "outputs": [],
   "source": [
    "COLUMN_DICT = {\n",
    "    '日增长率': 'rzdf',\n",
    "    '近一周': 'zzf',\n",
    "    '近一月': '1yzf',\n",
    "    '近3月': '3yzf',\n",
    "    '近6月': '6yzf',\n",
    "    '近1年': '1nzf',\n",
    "    '近2年': '2nzf',\n",
    "    '近3年': '3nzf',\n",
    "    '今年以来': 'jnzf',\n",
    "    '成立以来': 'lnzf'\n",
    "}\n",
    "\n",
    "COLS = [\n",
    "    '代码', '名称', '简拼', '更新日期', '单位净值', '累积净值', '日增长率', '近一周', '近一月', '近3月',\n",
    "    '近6月', '近1年', '近2年', '近3年', '今年以来', '成立以来', '成立日期'\n",
    "]\n",
    "\n",
    "# sc:排序项目,见COLUMN_DICT;\n",
    "# pn:每页获取记录条数\n",
    "# pi:页码\n",
    "FUNDS_RANK_URL = 'http://fund.eastmoney.com/data/rankhandler.aspx?op=ph&sc={}&pi=1&st=desc&pn={}&dx=1'"
   ]
  },
  {
   "cell_type": "code",
   "execution_count": 20,
   "metadata": {},
   "outputs": [],
   "source": [
    "def get_funds_rank(order_item, n):\n",
    "    '''获取基金排名数据'''\n",
    "    url = FUNDS_RANK_URL.format(COLUMN_DICT[order_item], n)\n",
    "    r = requests.get(url)\n",
    "    r.encoding = 'utf-8'\n",
    "    datas = eval(re.findall('\\[.*\\]', r.text)[0])\n",
    "    return datas\n",
    "\n",
    "\n",
    "def make_funds_df(datas):\n",
    "    '''根据基金排名数据生成DataFrame'''\n",
    "    funds = []\n",
    "    for data in datas:\n",
    "        funds.append(data.split(',')[:17])\n",
    "\n",
    "    df = pd.DataFrame(funds, columns=COLS)\n",
    "    return df\n",
    "\n",
    "\n",
    "def get_funds_df(order_item, n):\n",
    "    '''根据指定排名项获取基金排名数据的DataFrame'''\n",
    "    #     url = make_funds_rank_url(order_item)\n",
    "    datas = get_funds_rank(order_item, n)\n",
    "    df = make_funds_df(datas)\n",
    "    return df\n",
    "\n",
    "\n",
    "def get_fund_size(soup):\n",
    "    '''获取基金规模'''\n",
    "    tag = soup.select_one('div.infoOfFund tr:nth-of-type(1) td:nth-of-type(2)')\n",
    "    fund_size = re.findall(r'基金规模\\D*(\\d.+\\d)亿元', str(tag))[0]\n",
    "    return fund_size\n",
    "\n",
    "\n",
    "def get_stocks_by_fund(fund):\n",
    "    '''根据单个基金获取持仓股票信息'''\n",
    "    url = 'http://fund.eastmoney.com/{}.html'.format(fund['代码'])\n",
    "    r = requests.get(url)\n",
    "    r.encoding = 'utf-8'\n",
    "    soup = BeautifulSoup(r.text, 'lxml')\n",
    "\n",
    "    # 基金规模\n",
    "    fund_size = get_fund_size(soup)\n",
    "\n",
    "    # tag为每个股票的链接html\n",
    "    i = 0\n",
    "    stocks = []\n",
    "\n",
    "    # [1:11] “1”是去除标题行，“11”是因为有的基金在该处显示的是基金持仓，旁边才是股票持仓，但两处选择器完全一样，会造成行数大于10行\n",
    "    for item in soup.select(\n",
    "            '#position_shares > div.poptableWrap > table > tr')[1:11]:\n",
    "        i += 1\n",
    "        elements = item.get_text().split()\n",
    "        if len(elements) == 1:\n",
    "            break\n",
    "        stocks.append([\n",
    "            i, fund['代码'], fund['名称'], fund_size,\n",
    "            re.sub('\\D', '', item.a['href']), elements[0], elements[1],\n",
    "            item.a['href']\n",
    "        ])\n",
    "\n",
    "    return stocks\n",
    "\n",
    "\n",
    "def get_stocks_df(order_item, n=50):\n",
    "    '''获取所有基金的持仓股票信息'''\n",
    "    funds_df = get_funds_df(order_item, n)\n",
    "\n",
    "    stocks = []\n",
    "    for index, fund in funds_df.iterrows():\n",
    "        stocks_by_fund = get_stocks_by_fund(fund)\n",
    "        stocks.extend(stocks_by_fund)\n",
    "\n",
    "    stocks_df = pd.DataFrame(\n",
    "        stocks,\n",
    "        columns=[\n",
    "            'rank', 'fund_code', 'fund_name', 'fund_size', 'stock_code',\n",
    "            'stock_name', 'stock_percent', 'stock_url'\n",
    "        ])\n",
    "    return stocks_df"
   ]
  },
  {
   "cell_type": "code",
   "execution_count": 4,
   "metadata": {},
   "outputs": [],
   "source": [
    "order_item = '近一周'"
   ]
  },
  {
   "cell_type": "code",
   "execution_count": 21,
   "metadata": {
    "scrolled": false
   },
   "outputs": [],
   "source": [
    "df = get_stocks_df(order_item, 75)"
   ]
  },
  {
   "cell_type": "code",
   "execution_count": null,
   "metadata": {
    "scrolled": false
   },
   "outputs": [],
   "source": [
    "df"
   ]
  },
  {
   "cell_type": "code",
   "execution_count": 38,
   "metadata": {},
   "outputs": [],
   "source": [
    "# 计算各股票持仓金额\n",
    "df['stock_money'] = df['fund_size'].astype(\n",
    "    float) * df['stock_percent'].str.strip('%').astype(float) / 100"
   ]
  },
  {
   "cell_type": "code",
   "execution_count": 29,
   "metadata": {},
   "outputs": [],
   "source": [
    "# 根据基金去除重复数据，保留排名第一的股票\n",
    "# df.drop_duplicates(['fund_code','fund_name'])"
   ]
  },
  {
   "cell_type": "code",
   "execution_count": 49,
   "metadata": {
    "scrolled": false
   },
   "outputs": [],
   "source": [
    "# 统计每个股票有多少基金持仓\n",
    "# df.groupby(['stock_code','stock_name','stock_url']).count().sort_values('rank',ascending=False)"
   ]
  }
 ],
 "metadata": {
  "kernelspec": {
   "display_name": "Python 3",
   "language": "python",
   "name": "python3"
  },
  "language_info": {
   "codemirror_mode": {
    "name": "ipython",
    "version": 3
   },
   "file_extension": ".py",
   "mimetype": "text/x-python",
   "name": "python",
   "nbconvert_exporter": "python",
   "pygments_lexer": "ipython3",
   "version": "3.7.0"
  },
  "varInspector": {
   "cols": {
    "lenName": 16,
    "lenType": 16,
    "lenVar": 40
   },
   "kernels_config": {
    "python": {
     "delete_cmd_postfix": "",
     "delete_cmd_prefix": "del ",
     "library": "var_list.py",
     "varRefreshCmd": "print(var_dic_list())"
    },
    "r": {
     "delete_cmd_postfix": ") ",
     "delete_cmd_prefix": "rm(",
     "library": "var_list.r",
     "varRefreshCmd": "cat(var_dic_list()) "
    }
   },
   "types_to_exclude": [
    "module",
    "function",
    "builtin_function_or_method",
    "instance",
    "_Feature"
   ],
   "window_display": false
  }
 },
 "nbformat": 4,
 "nbformat_minor": 2
}
