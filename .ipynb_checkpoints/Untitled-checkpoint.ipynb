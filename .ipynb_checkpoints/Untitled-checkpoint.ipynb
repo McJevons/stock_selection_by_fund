{
 "cells": [
  {
   "cell_type": "code",
   "execution_count": 1,
   "metadata": {},
   "outputs": [],
   "source": [
    "import numpy as np\n",
    "import pandas as pd"
   ]
  },
  {
   "cell_type": "code",
   "execution_count": 2,
   "metadata": {},
   "outputs": [],
   "source": [
    "import requests\n",
    "import re\n",
    "from bs4 import BeautifulSoup"
   ]
  },
  {
   "cell_type": "code",
   "execution_count": 12,
   "metadata": {},
   "outputs": [],
   "source": [
    "COLUMN_DICT = {\n",
    "    '日增长率': 'rzdf',\n",
    "    '近一周': 'zzf',\n",
    "    '近一月': '1yzf',\n",
    "    '近3月': '3yzf',\n",
    "    '近6月': '6yzf',\n",
    "    '近1年': '1nzf',\n",
    "    '近2年': '2nzf',\n",
    "    '近3年': '3nzf',\n",
    "    '今年以来': 'jnzf',\n",
    "    '成立以来': 'lnzf'\n",
    "}\n",
    "\n",
    "COLS = [\n",
    "    '代码', '名称', '简拼', '更新日期', '单位净值', '累积净值', '日增长率', '近一周', '近一月', '近3月',\n",
    "    '近6月', '近1年', '近2年', '近3年', '今年以来', '成立以来', '成立日期'\n",
    "]"
   ]
  },
  {
   "cell_type": "code",
   "execution_count": 20,
   "metadata": {},
   "outputs": [],
   "source": [
    "def make_url(order_item):\n",
    "    return 'http://fund.eastmoney.com/data/rankhandler.aspx?op=ph&sc={}&st=desc'.format(\n",
    "        COLUMN_DICT[order_item])\n",
    "\n",
    "\n",
    "def get_funds_datas(url):\n",
    "    r = requests.get(url)\n",
    "    r.encoding = 'utf-8'\n",
    "    datas = eval(re.findall('\\[.*\\]', r.text)[0])\n",
    "    return datas\n",
    "\n",
    "\n",
    "def make_funds_df(datas):\n",
    "    funds = []\n",
    "    for data in datas:\n",
    "        funds.append(data.split(',')[:17])\n",
    "\n",
    "    df = pd.DataFrame(funds, columns=COLS)\n",
    "    return df\n",
    "\n",
    "\n",
    "def get_funds_df(order_item):\n",
    "    url = make_url(order_item)\n",
    "    datas = get_funds_datas(url)\n",
    "    df = make_funds_df(datas)\n",
    "    return df\n",
    "\n",
    "def make_fund_url(code):\n",
    "    url = 'http://fund.eastmoney.com/{}.html'.format(code)\n",
    "    return url"
   ]
  },
  {
   "cell_type": "code",
   "execution_count": 17,
   "metadata": {},
   "outputs": [],
   "source": [
    "order_item='近3月'\n",
    "funds_df=get_funds_df(order_item)"
   ]
  },
  {
   "cell_type": "code",
   "execution_count": 22,
   "metadata": {},
   "outputs": [
    {
     "name": "stdout",
     "output_type": "stream",
     "text": [
      "http://fund.eastmoney.com/006761.html\n",
      "http://fund.eastmoney.com/007300.html\n",
      "http://fund.eastmoney.com/007301.html\n",
      "http://fund.eastmoney.com/005312.html\n",
      "http://fund.eastmoney.com/005311.html\n",
      "http://fund.eastmoney.com/519674.html\n",
      "http://fund.eastmoney.com/540008.html\n",
      "http://fund.eastmoney.com/001643.html\n",
      "http://fund.eastmoney.com/001644.html\n",
      "http://fund.eastmoney.com/161912.html\n",
      "http://fund.eastmoney.com/161913.html\n",
      "http://fund.eastmoney.com/001809.html\n",
      "http://fund.eastmoney.com/004636.html\n",
      "http://fund.eastmoney.com/519005.html\n",
      "http://fund.eastmoney.com/004666.html\n",
      "http://fund.eastmoney.com/000522.html\n",
      "http://fund.eastmoney.com/003834.html\n",
      "http://fund.eastmoney.com/006767.html\n",
      "http://fund.eastmoney.com/001410.html\n",
      "http://fund.eastmoney.com/006751.html\n",
      "http://fund.eastmoney.com/161903.html\n",
      "http://fund.eastmoney.com/550009.html\n",
      "http://fund.eastmoney.com/005094.html\n",
      "http://fund.eastmoney.com/519181.html\n",
      "http://fund.eastmoney.com/002560.html\n",
      "http://fund.eastmoney.com/003853.html\n",
      "http://fund.eastmoney.com/290011.html\n",
      "http://fund.eastmoney.com/519029.html\n",
      "http://fund.eastmoney.com/005885.html\n",
      "http://fund.eastmoney.com/006257.html\n",
      "http://fund.eastmoney.com/161028.html\n",
      "http://fund.eastmoney.com/320007.html\n",
      "http://fund.eastmoney.com/002190.html\n",
      "http://fund.eastmoney.com/007484.html\n",
      "http://fund.eastmoney.com/257070.html\n",
      "http://fund.eastmoney.com/006265.html\n",
      "http://fund.eastmoney.com/001702.html\n",
      "http://fund.eastmoney.com/001956.html\n",
      "http://fund.eastmoney.com/001740.html\n",
      "http://fund.eastmoney.com/519195.html\n",
      "http://fund.eastmoney.com/007685.html\n",
      "http://fund.eastmoney.com/004890.html\n",
      "http://fund.eastmoney.com/001210.html\n",
      "http://fund.eastmoney.com/001616.html\n",
      "http://fund.eastmoney.com/007340.html\n",
      "http://fund.eastmoney.com/007341.html\n",
      "http://fund.eastmoney.com/162703.html\n",
      "http://fund.eastmoney.com/005495.html\n",
      "http://fund.eastmoney.com/003984.html\n",
      "http://fund.eastmoney.com/005496.html\n"
     ]
    }
   ],
   "source": [
    "for x in funds_df['代码']:\n",
    "    print(make_fund_url(x))"
   ]
  },
  {
   "cell_type": "code",
   "execution_count": 30,
   "metadata": {},
   "outputs": [],
   "source": [
    "r=requests.get('http://fund.eastmoney.com/007300.html')"
   ]
  },
  {
   "cell_type": "code",
   "execution_count": 36,
   "metadata": {},
   "outputs": [],
   "source": [
    "r.encoding='utf-8'\n",
    "r.text\n",
    "soup=BeautifulSoup(r.text,'lxml')"
   ]
  },
  {
   "cell_type": "code",
   "execution_count": 48,
   "metadata": {},
   "outputs": [
    {
     "data": {
      "text/plain": [
       "[<a href=\"http://quote.eastmoney.com/sh603160.html\" title=\"汇顶科技\">汇顶科技</a>,\n",
       " <a href=\"http://quote.eastmoney.com/sh603986.html\" title=\"兆易创新\">兆易创新</a>,\n",
       " <a href=\"http://quote.eastmoney.com/sh600584.html\" title=\"长电科技\">长电科技</a>,\n",
       " <a href=\"http://quote.eastmoney.com/sh600460.html\" title=\"士兰微\">士兰微</a>,\n",
       " <a href=\"http://quote.eastmoney.com/sh600171.html\" title=\"上海贝岭\">上海贝岭</a>,\n",
       " <a href=\"http://quote.eastmoney.com/sh600360.html\" title=\"华微电子\">华微电子</a>,\n",
       " <a href=\"http://quote.eastmoney.com/sh600667.html\" title=\"太极实业\">太极实业</a>,\n",
       " <a href=\"http://quote.eastmoney.com/sh603005.html\" title=\"晶方科技\">晶方科技</a>,\n",
       " <a href=\"http://quote.eastmoney.com/sh603068.html\" title=\"博通集成\">博通集成</a>,\n",
       " <a href=\"http://quote.eastmoney.com/sh600203.html\" title=\"福日电子\">福日电子</a>]"
      ]
     },
     "execution_count": 48,
     "metadata": {},
     "output_type": "execute_result"
    }
   ],
   "source": [
    "soup.select('#position_shares td.alignLeft a')"
   ]
  },
  {
   "cell_type": "code",
   "execution_count": null,
   "metadata": {},
   "outputs": [],
   "source": [
    "#position_shares > div.poptableWrap > table > tbody > tr:nth-child(2) > td.alignLeft > a"
   ]
  }
 ],
 "metadata": {
  "kernelspec": {
   "display_name": "Python 3",
   "language": "python",
   "name": "python3"
  },
  "language_info": {
   "codemirror_mode": {
    "name": "ipython",
    "version": 3
   },
   "file_extension": ".py",
   "mimetype": "text/x-python",
   "name": "python",
   "nbconvert_exporter": "python",
   "pygments_lexer": "ipython3",
   "version": "3.7.0"
  },
  "varInspector": {
   "cols": {
    "lenName": 16,
    "lenType": 16,
    "lenVar": 40
   },
   "kernels_config": {
    "python": {
     "delete_cmd_postfix": "",
     "delete_cmd_prefix": "del ",
     "library": "var_list.py",
     "varRefreshCmd": "print(var_dic_list())"
    },
    "r": {
     "delete_cmd_postfix": ") ",
     "delete_cmd_prefix": "rm(",
     "library": "var_list.r",
     "varRefreshCmd": "cat(var_dic_list()) "
    }
   },
   "types_to_exclude": [
    "module",
    "function",
    "builtin_function_or_method",
    "instance",
    "_Feature"
   ],
   "window_display": false
  }
 },
 "nbformat": 4,
 "nbformat_minor": 2
}
